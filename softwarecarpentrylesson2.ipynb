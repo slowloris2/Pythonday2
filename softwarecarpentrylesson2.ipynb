{
 "cells": [
  {
   "cell_type": "code",
   "execution_count": 1,
   "metadata": {
    "collapsed": true
   },
   "outputs": [],
   "source": [
    "pressure =[0.23,0.275,0.276,0.289,0.298]\n"
   ]
  },
  {
   "cell_type": "code",
   "execution_count": 2,
   "metadata": {},
   "outputs": [
    {
     "name": "stdout",
     "output_type": "stream",
     "text": [
      "the first pressure point 0.23\n"
     ]
    }
   ],
   "source": [
    "print('the first pressure point', pressure[0])\n"
   ]
  },
  {
   "cell_type": "code",
   "execution_count": 3,
   "metadata": {},
   "outputs": [
    {
     "name": "stdout",
     "output_type": "stream",
     "text": [
      "the fourth pressure point 0.289\n"
     ]
    }
   ],
   "source": [
    "print('the fourth pressure point', pressure[3])"
   ]
  },
  {
   "cell_type": "code",
   "execution_count": 4,
   "metadata": {},
   "outputs": [
    {
     "name": "stdout",
     "output_type": "stream",
     "text": [
      "new value is 0.34\n"
     ]
    }
   ],
   "source": [
    "pressure[0]=0.34\n",
    "print('new value is', pressure[0])\n"
   ]
  },
  {
   "cell_type": "code",
   "execution_count": 5,
   "metadata": {},
   "outputs": [
    {
     "name": "stdout",
     "output_type": "stream",
     "text": [
      "our data points of pressure are [0.34, 0.275, 0.276, 0.289, 0.298]\n"
     ]
    }
   ],
   "source": [
    "print('our data points of pressure are', pressure)"
   ]
  },
  {
   "cell_type": "code",
   "execution_count": 6,
   "metadata": {},
   "outputs": [
    {
     "name": "stdout",
     "output_type": "stream",
     "text": [
      "5\n"
     ]
    }
   ],
   "source": [
    "list_length=len(pressure)\n",
    "print(list_length)"
   ]
  },
  {
   "cell_type": "code",
   "execution_count": 12,
   "metadata": {},
   "outputs": [
    {
     "name": "stdout",
     "output_type": "stream",
     "text": [
      "[0.34, 0.275, 0.276, 0.289, 0.298, 1.23]\n",
      "the new length of out ist is 6\n"
     ]
    }
   ],
   "source": [
    "pressure.append(1.23)\n",
    "print(pressure)\n",
    "list_length=len(pressure)\n",
    "print('the new length of out ist is', list_length)\n"
   ]
  },
  {
   "cell_type": "code",
   "execution_count": 10,
   "metadata": {},
   "outputs": [
    {
     "name": "stdout",
     "output_type": "stream",
     "text": [
      "[0.34, 0.275, 0.276, 0.289, 0.298]\n"
     ]
    }
   ],
   "source": [
    "pressure.pop()\n"
   ]
  },
  {
   "cell_type": "code",
   "execution_count": 13,
   "metadata": {},
   "outputs": [
    {
     "name": "stdout",
     "output_type": "stream",
     "text": [
      "[0.34, 0.275, 0.276, 0.289, 0.298, 1.23]\n"
     ]
    }
   ],
   "source": [
    "print(pressure)"
   ]
  },
  {
   "cell_type": "code",
   "execution_count": 14,
   "metadata": {},
   "outputs": [
    {
     "name": "stdout",
     "output_type": "stream",
     "text": [
      "pressure is now [0.34, 0.276, 0.289, 0.298, 1.23]\n"
     ]
    }
   ],
   "source": [
    "del pressure[1]\n",
    "print ('pressure is now', pressure)"
   ]
  },
  {
   "cell_type": "code",
   "execution_count": 25,
   "metadata": {},
   "outputs": [
    {
     "name": "stdout",
     "output_type": "stream",
     "text": [
      "[1, 'create list', 2, 'extract items from list', 3, 'modify lists']\n"
     ]
    }
   ],
   "source": [
    "goals=[1,'create list',2,'extract items from list',3,'modify lists']\n",
    "print(goals)\n"
   ]
  },
  {
   "cell_type": "code",
   "execution_count": 26,
   "metadata": {},
   "outputs": [
    {
     "name": "stdout",
     "output_type": "stream",
     "text": [
      "1\n",
      "create list\n",
      "extract items from list\n"
     ]
    }
   ],
   "source": [
    "print (goals[0])\n",
    "print (goals[1])\n",
    "print (goals[3])\n"
   ]
  },
  {
   "cell_type": "code",
   "execution_count": 17,
   "metadata": {},
   "outputs": [
    {
     "name": "stdout",
     "output_type": "stream",
     "text": [
      "carbon\n"
     ]
    }
   ],
   "source": [
    "element ='carbon'\n",
    "print(element)\n"
   ]
  },
  {
   "cell_type": "code",
   "execution_count": 24,
   "metadata": {},
   "outputs": [
    {
     "name": "stdout",
     "output_type": "stream",
     "text": [
      "n\n"
     ]
    }
   ],
   "source": [
    "print(element[5])"
   ]
  },
  {
   "cell_type": "code",
   "execution_count": 28,
   "metadata": {},
   "outputs": [
    {
     "name": "stdout",
     "output_type": "stream",
     "text": [
      "bon\n"
     ]
    }
   ],
   "source": [
    "print(element[3:])\n"
   ]
  },
  {
   "cell_type": "code",
   "execution_count": 29,
   "metadata": {},
   "outputs": [
    {
     "name": "stdout",
     "output_type": "stream",
     "text": [
      "n\n"
     ]
    }
   ],
   "source": [
    "print(element[-1])"
   ]
  },
  {
   "cell_type": "code",
   "execution_count": 32,
   "metadata": {},
   "outputs": [
    {
     "name": "stdout",
     "output_type": "stream",
     "text": [
      "This is quite a long list of characters\n",
      "T qel t re\n"
     ]
    }
   ],
   "source": [
    "my_list='This is quite a long list of characters'\n",
    "print(my_list)\n",
    "print(my_list[::4]) #every 4th character"
   ]
  },
  {
   "cell_type": "code",
   "execution_count": 33,
   "metadata": {
    "collapsed": true
   },
   "outputs": [],
   "source": [
    "#for loops!!!\n"
   ]
  },
  {
   "cell_type": "code",
   "execution_count": 42,
   "metadata": {},
   "outputs": [
    {
     "name": "stdout",
     "output_type": "stream",
     "text": [
      "my numbers are\n",
      "1\n",
      "2\n",
      "my numbers are\n",
      "3\n",
      "6\n",
      "my numbers are\n",
      "1\n",
      "2\n",
      "my numbers are\n",
      "8\n",
      "16\n",
      "my numbers are\n",
      "12\n",
      "24\n",
      "we are done!\n"
     ]
    }
   ],
   "source": [
    "numbers_list=[1,3,1,8,12]\n",
    "for number in numbers_list:\n",
    "    print('my numbers are')\n",
    "    print(number)\n",
    "    print(number*2)\n",
    "print('we are done!')"
   ]
  },
  {
   "cell_type": "code",
   "execution_count": 37,
   "metadata": {},
   "outputs": [
    {
     "name": "stdout",
     "output_type": "stream",
     "text": [
      "1\n",
      "3\n",
      "1\n"
     ]
    }
   ],
   "source": [
    "print(numbers_list[0])\n",
    "print(numbers_list[1])\n",
    "print(numbers_list[2])"
   ]
  },
  {
   "cell_type": "code",
   "execution_count": 44,
   "metadata": {},
   "outputs": [
    {
     "name": "stdout",
     "output_type": "stream",
     "text": [
      "0\n",
      "1\n",
      "2\n",
      "3\n",
      "4\n",
      "5\n",
      "6\n",
      "7\n",
      "8\n",
      "9\n"
     ]
    }
   ],
   "source": [
    "for number in range(0,10):\n",
    "    print(number)"
   ]
  },
  {
   "cell_type": "code",
   "execution_count": 66,
   "metadata": {},
   "outputs": [
    {
     "name": "stdout",
     "output_type": "stream",
     "text": [
      "[1, 3, 6, 10, 15]\n"
     ]
    }
   ],
   "source": [
    "data=[1,2,3,4,5]\n",
    "cumulative=[]\n",
    "my_sum=0\n",
    "for number in data:\n",
    "    my_sum+=number  \n",
    "    cumulative.append(my_sum)\n",
    "print(cumulative)\n"
   ]
  },
  {
   "cell_type": "code",
   "execution_count": 54,
   "metadata": {},
   "outputs": [
    {
     "name": "stdout",
     "output_type": "stream",
     "text": [
      "[1, 2, 3, 4, 5]\n"
     ]
    }
   ],
   "source": [
    "\n",
    "print(data)\n"
   ]
  },
  {
   "cell_type": "code",
   "execution_count": 48,
   "metadata": {},
   "outputs": [
    {
     "name": "stdout",
     "output_type": "stream",
     "text": [
      "[]\n"
     ]
    }
   ],
   "source": [
    "cumulative=[]\n",
    "print(cumulative)\n"
   ]
  },
  {
   "cell_type": "code",
   "execution_count": 72,
   "metadata": {},
   "outputs": [
    {
     "name": "stdout",
     "output_type": "stream",
     "text": [
      "data/gapminder_gdp_africa.csv gdpPercap_1952    298.846212\n",
      "gdpPercap_1957    335.997115\n",
      "gdpPercap_1962    355.203227\n",
      "gdpPercap_1967    412.977514\n",
      "gdpPercap_1972    464.099504\n",
      "gdpPercap_1977    502.319733\n",
      "gdpPercap_1982    462.211415\n",
      "gdpPercap_1987    389.876185\n",
      "gdpPercap_1992    410.896824\n",
      "gdpPercap_1997    312.188423\n",
      "gdpPercap_2002    241.165877\n",
      "gdpPercap_2007    277.551859\n",
      "dtype: float64\n",
      "data/gapminder_gdp_asia.csv gdpPercap_1952    331.0\n",
      "gdpPercap_1957    350.0\n",
      "gdpPercap_1962    388.0\n",
      "gdpPercap_1967    349.0\n",
      "gdpPercap_1972    357.0\n",
      "gdpPercap_1977    371.0\n",
      "gdpPercap_1982    424.0\n",
      "gdpPercap_1987    385.0\n",
      "gdpPercap_1992    347.0\n",
      "gdpPercap_1997    415.0\n",
      "gdpPercap_2002    611.0\n",
      "gdpPercap_2007    944.0\n",
      "dtype: float64\n"
     ]
    }
   ],
   "source": [
    "import pandas\n",
    "for filename in ['data/gapminder_gdp_africa.csv','data/gapminder_gdp_asia.csv']:\n",
    "    data=pandas.read_csv(filename, index_col='country')\n",
    "    print(filename,data.min())"
   ]
  },
  {
   "cell_type": "code",
   "execution_count": 73,
   "metadata": {},
   "outputs": [
    {
     "name": "stdout",
     "output_type": "stream",
     "text": [
      "All the csv files in my data directory ['data\\\\gapminder_all.csv', 'data\\\\gapminder_gdp_africa.csv', 'data\\\\gapminder_gdp_americas.csv', 'data\\\\gapminder_gdp_asia.csv', 'data\\\\gapminder_gdp_europe.csv', 'data\\\\gapminder_gdp_oceania.csv']\n"
     ]
    }
   ],
   "source": [
    "import glob\n",
    "print('All the csv files in my data directory', glob.glob('data/*.csv'))"
   ]
  },
  {
   "cell_type": "code",
   "execution_count": 80,
   "metadata": {},
   "outputs": [
    {
     "name": "stdout",
     "output_type": "stream",
     "text": [
      "data\\gapminder_all.csv 298.8462121\n",
      "data\\gapminder_gdp_africa.csv 298.8462121\n",
      "data\\gapminder_gdp_americas.csv 1397.717137\n",
      "data\\gapminder_gdp_asia.csv 331.0\n",
      "data\\gapminder_gdp_europe.csv 973.5331948\n",
      "data\\gapminder_gdp_oceania.csv 10039.59564\n"
     ]
    }
   ],
   "source": [
    "for filename in glob.glob('data/*.csv'):\n",
    "    data=pandas.read_csv(filename)\n",
    "    print(filename,data['gdpPercap_1952'].min())"
   ]
  },
  {
   "cell_type": "code",
   "execution_count": 81,
   "metadata": {
    "collapsed": true
   },
   "outputs": [],
   "source": [
    "def print_greeting():\n",
    "    #print a nice greeting\n",
    "    print('Hello Dan')"
   ]
  },
  {
   "cell_type": "code",
   "execution_count": 83,
   "metadata": {},
   "outputs": [
    {
     "name": "stdout",
     "output_type": "stream",
     "text": [
      "Hello Dan\n"
     ]
    }
   ],
   "source": [
    "print_greeting()\n"
   ]
  },
  {
   "cell_type": "code",
   "execution_count": 88,
   "metadata": {},
   "outputs": [],
   "source": [
    "def print_date(year,month,day):\n",
    "    join_string=str(year) +'/'+str(month)+'/'+str(day)\n",
    "    print(join_string)"
   ]
  },
  {
   "cell_type": "code",
   "execution_count": 91,
   "metadata": {},
   "outputs": [
    {
     "name": "stdout",
     "output_type": "stream",
     "text": [
      "2017/11/8\n"
     ]
    }
   ],
   "source": [
    "print_date(2017,11,8)"
   ]
  },
  {
   "cell_type": "code",
   "execution_count": 94,
   "metadata": {},
   "outputs": [
    {
     "name": "stdout",
     "output_type": "stream",
     "text": [
      "2017/11/1\n",
      "2017/11/2\n",
      "2017/11/3\n",
      "2017/11/4\n",
      "2017/11/5\n",
      "2017/11/6\n",
      "2017/11/7\n",
      "2017/11/8\n",
      "2017/11/9\n",
      "2017/11/10\n",
      "2017/11/11\n",
      "2017/11/12\n",
      "2017/11/13\n",
      "2017/11/14\n",
      "2017/11/15\n",
      "2017/11/16\n",
      "2017/11/17\n",
      "2017/11/18\n",
      "2017/11/19\n",
      "2017/11/20\n",
      "2017/11/21\n",
      "2017/11/22\n",
      "2017/11/23\n",
      "2017/11/24\n",
      "2017/11/25\n",
      "2017/11/26\n",
      "2017/11/27\n",
      "2017/11/28\n",
      "2017/11/29\n",
      "2017/11/30\n"
     ]
    }
   ],
   "source": [
    "for day in range(1,31):\n",
    "    print_date(2017,11,day)\n",
    "    "
   ]
  },
  {
   "cell_type": "code",
   "execution_count": 1,
   "metadata": {
    "collapsed": true
   },
   "outputs": [],
   "source": [
    "def swc_average(values):\n",
    "    #check that we dont have empty values\n",
    "    if len(values)==0: #not =#== returns boolean\n",
    "        return None\n",
    "    return sum(values)/len(values)\n",
    "\n",
    "    "
   ]
  },
  {
   "cell_type": "code",
   "execution_count": 4,
   "metadata": {},
   "outputs": [],
   "source": [
    "swc_average_value=swc_average([2,3,4,5,6,7,6666])\n",
    "                     "
   ]
  },
  {
   "cell_type": "code",
   "execution_count": 5,
   "metadata": {},
   "outputs": [
    {
     "name": "stdout",
     "output_type": "stream",
     "text": [
      "956.1428571428571\n"
     ]
    }
   ],
   "source": [
    "print(swc_average_value)"
   ]
  },
  {
   "cell_type": "code",
   "execution_count": 6,
   "metadata": {},
   "outputs": [
    {
     "name": "stdout",
     "output_type": "stream",
     "text": [
      "Variable            Type        Data/Info\n",
      "-----------------------------------------\n",
      "swc_average         function    <function swc_average at 0x000001CD339FB598>\n",
      "swc_average_value   float       956.1428571428571\n"
     ]
    }
   ],
   "source": [
    "whos\n"
   ]
  },
  {
   "cell_type": "code",
   "execution_count": 7,
   "metadata": {
    "collapsed": true
   },
   "outputs": [],
   "source": [
    "name='Dan'\n",
    "def swc_greeting():\n",
    "    print('Hello',name)"
   ]
  },
  {
   "cell_type": "code",
   "execution_count": 8,
   "metadata": {},
   "outputs": [
    {
     "name": "stdout",
     "output_type": "stream",
     "text": [
      "Hello Dan\n"
     ]
    }
   ],
   "source": [
    "swc_greeting()"
   ]
  },
  {
   "cell_type": "code",
   "execution_count": 14,
   "metadata": {
    "collapsed": true
   },
   "outputs": [],
   "source": [
    "def swc_greeting(name):\n",
    "    print('Hello',name)"
   ]
  },
  {
   "cell_type": "code",
   "execution_count": 15,
   "metadata": {},
   "outputs": [
    {
     "name": "stdout",
     "output_type": "stream",
     "text": [
      "Hello Dan\n"
     ]
    }
   ],
   "source": [
    "swc_greeting('Dan')"
   ]
  },
  {
   "cell_type": "code",
   "execution_count": 16,
   "metadata": {},
   "outputs": [
    {
     "name": "stdout",
     "output_type": "stream",
     "text": [
      "3.54 is large\n"
     ]
    }
   ],
   "source": [
    "mass=3.54\n",
    "if mass>3.0:\n",
    "    print(mass,'is large')"
   ]
  },
  {
   "cell_type": "code",
   "execution_count": 17,
   "metadata": {},
   "outputs": [
    {
     "name": "stdout",
     "output_type": "stream",
     "text": [
      "3.54\n"
     ]
    }
   ],
   "source": [
    "print(mass)\n"
   ]
  },
  {
   "cell_type": "code",
   "execution_count": 20,
   "metadata": {},
   "outputs": [
    {
     "name": "stdout",
     "output_type": "stream",
     "text": [
      "3.54 is large\n",
      "9.22 is large\n"
     ]
    }
   ],
   "source": [
    "mass=[3.54,2.07,9.22,1.86,1.71]\n",
    "for item in mass:\n",
    "    if item>3.0:\n",
    "        print(item,'is large')\n",
    "              "
   ]
  },
  {
   "cell_type": "code",
   "execution_count": 23,
   "metadata": {},
   "outputs": [
    {
     "name": "stdout",
     "output_type": "stream",
     "text": [
      "3.54 is large\n",
      "2.07 is small\n",
      "9.22 is large\n",
      "1.86 is small\n",
      "1.71 is small\n"
     ]
    }
   ],
   "source": [
    "for item in mass:\n",
    "    if item>3.0:\n",
    "        print(item,'is large')\n",
    "    else:\n",
    "        print(item,'is small')\n",
    "        "
   ]
  },
  {
   "cell_type": "code",
   "execution_count": 25,
   "metadata": {},
   "outputs": [
    {
     "name": "stdout",
     "output_type": "stream",
     "text": [
      "3.54 is large\n",
      "2.07 is small\n",
      "9.22 is huge\n",
      "1.86 is small\n",
      "1.71 is small\n"
     ]
    }
   ],
   "source": [
    "for item in mass:\n",
    "    if item>9.0:\n",
    "        print(item,'is huge')\n",
    "    elif item>3.0:\n",
    "        print(item,'is large')\n",
    "    else:\n",
    "        print(item,'is small')"
   ]
  },
  {
   "cell_type": "code",
   "execution_count": 34,
   "metadata": {},
   "outputs": [
    {
     "name": "stdout",
     "output_type": "stream",
     "text": [
      "normal traffic!\n",
      "normal traffic!\n",
      "Fast and heavy object. Duck !!\n",
      "whoa!something is up with the data. Check it!\n",
      "Slow light object. ignore it\n"
     ]
    }
   ],
   "source": [
    "elifmass=[3.54, 2.07, 9.22, 1.86, 1.71]\n",
    "velocity=[10.00,20.00,30.00,25.00,20.00]\n",
    "i_iter=0\n",
    "for i_iter in range(5):\n",
    "    if mass[i_iter]>5 and velocity[i_iter]>20:\n",
    "        print(\"Fast and heavy object. Duck !!\")\n",
    "    elif mass[i_iter]>2 and mass[i_iter]<=5 and velocity[i_iter]<=20:\n",
    "        print(\"normal traffic!\")\n",
    "    elif mass[i_iter]<=2 and velocity[i_iter]<=20:\n",
    "        print(\"Slow light object. ignore it\")\n",
    "    else:\n",
    "        print(\"whoa!something is up with the data. Check it!\")\n",
    "        \n",
    "        \n",
    "        "
   ]
  },
  {
   "cell_type": "code",
   "execution_count": 27,
   "metadata": {},
   "outputs": [
    {
     "data": {
      "text/plain": [
       "range(0, 5)"
      ]
     },
     "execution_count": 27,
     "metadata": {},
     "output_type": "execute_result"
    }
   ],
   "source": [
    "range(5)\n"
   ]
  },
  {
   "cell_type": "code",
   "execution_count": 37,
   "metadata": {},
   "outputs": [],
   "source": [
    "def calculate_life_quartile(exp):\n",
    "    \"\"\"This function finds the life expectancy quartile input:exp is the life expectancy in years\"\"\"\n",
    "    if exp<58.41:\n",
    "        #This observation is in the first quartile\n",
    "        return 1\n",
    "    elif exp>=58.41 and exp<67.07:\n",
    "        #This observation is in the second quartile\n",
    "        return 2\n",
    "    elif exp>=67.05 and exp <71.70:\n",
    "        #This observation is in the third quartile\n",
    "        return 3\n",
    "    elif exp>=71.70:\n",
    "        #This observation is in the fourth quartile\n",
    "        return 4\n",
    "    else:\n",
    "        #we have bad data\n",
    "        return None\n",
    "    "
   ]
  },
  {
   "cell_type": "code",
   "execution_count": 44,
   "metadata": {},
   "outputs": [
    {
     "data": {
      "text/plain": [
       "1"
      ]
     },
     "execution_count": 44,
     "metadata": {},
     "output_type": "execute_result"
    }
   ],
   "source": [
    "calculate_life_quartile(-3)"
   ]
  },
  {
   "cell_type": "code",
   "execution_count": 45,
   "metadata": {
    "collapsed": true
   },
   "outputs": [],
   "source": [
    "import pandas as pd\n"
   ]
  },
  {
   "cell_type": "code",
   "execution_count": 57,
   "metadata": {},
   "outputs": [],
   "source": [
    "data=pd.read_csv('data/gapminder_all.csv')\n",
    "data['life_qrtl']=data['lifeExp_1987'].apply(calculate_life_quartile)"
   ]
  },
  {
   "cell_type": "code",
   "execution_count": 64,
   "metadata": {},
   "outputs": [
    {
     "name": "stdout",
     "output_type": "stream",
     "text": [
      "0      2\n",
      "1      1\n",
      "2      1\n",
      "3      2\n",
      "4      1\n",
      "5      1\n",
      "6      1\n",
      "7      1\n",
      "8      1\n",
      "9      1\n",
      "10     1\n",
      "11     1\n",
      "12     1\n",
      "13     1\n",
      "14     2\n",
      "15     1\n",
      "16     1\n",
      "17     1\n",
      "18     2\n",
      "19     1\n",
      "20     1\n",
      "21     1\n",
      "22     1\n",
      "23     2\n",
      "24     1\n",
      "25     1\n",
      "26     2\n",
      "27     1\n",
      "28     1\n",
      "29     1\n",
      "      ..\n",
      "112    4\n",
      "113    3\n",
      "114    3\n",
      "115    3\n",
      "116    3\n",
      "117    4\n",
      "118    4\n",
      "119    4\n",
      "120    4\n",
      "121    4\n",
      "122    3\n",
      "123    4\n",
      "124    4\n",
      "125    4\n",
      "126    4\n",
      "127    4\n",
      "128    4\n",
      "129    3\n",
      "130    4\n",
      "131    3\n",
      "132    3\n",
      "133    3\n",
      "134    4\n",
      "135    4\n",
      "136    4\n",
      "137    4\n",
      "138    2\n",
      "139    4\n",
      "140    4\n",
      "141    4\n",
      "Name: life_qrtl, Length: 142, dtype: int64 0      65.799\n",
      "1      39.906\n",
      "2      52.337\n",
      "3      63.622\n",
      "4      49.557\n",
      "5      48.211\n",
      "6      54.985\n",
      "7      50.485\n",
      "8      51.051\n",
      "9      54.926\n",
      "10     47.412\n",
      "11     57.470\n",
      "12     54.655\n",
      "13     50.040\n",
      "14     59.797\n",
      "15     45.664\n",
      "16     46.453\n",
      "17     46.684\n",
      "18     60.190\n",
      "19     49.265\n",
      "20     55.729\n",
      "21     45.552\n",
      "22     41.245\n",
      "23     59.339\n",
      "24     57.180\n",
      "25     46.027\n",
      "26     66.234\n",
      "27     49.350\n",
      "28     47.457\n",
      "29     46.364\n",
      "        ...  \n",
      "112    75.350\n",
      "113    71.140\n",
      "114    71.340\n",
      "115    71.520\n",
      "116    71.580\n",
      "117    74.800\n",
      "118    74.830\n",
      "119    76.340\n",
      "120    74.847\n",
      "121    76.670\n",
      "122    69.580\n",
      "123    77.230\n",
      "124    74.360\n",
      "125    76.420\n",
      "126    74.865\n",
      "127    76.830\n",
      "128    75.890\n",
      "129    70.980\n",
      "130    74.060\n",
      "131    69.530\n",
      "132    71.218\n",
      "133    71.080\n",
      "134    72.250\n",
      "135    76.900\n",
      "136    77.190\n",
      "137    77.410\n",
      "138    63.108\n",
      "139    75.007\n",
      "140    76.320\n",
      "141    74.320\n",
      "Name: lifeExp_1987, Length: 142, dtype: float64\n"
     ]
    }
   ],
   "source": [
    "print(data['life_qrtl'],data['lifeExp_1987'])\n"
   ]
  },
  {
   "cell_type": "code",
   "execution_count": null,
   "metadata": {
    "collapsed": true
   },
   "outputs": [],
   "source": []
  }
 ],
 "metadata": {
  "kernelspec": {
   "display_name": "Python 3",
   "language": "python",
   "name": "python3"
  },
  "language_info": {
   "codemirror_mode": {
    "name": "ipython",
    "version": 3
   },
   "file_extension": ".py",
   "mimetype": "text/x-python",
   "name": "python",
   "nbconvert_exporter": "python",
   "pygments_lexer": "ipython3",
   "version": "3.6.3"
  }
 },
 "nbformat": 4,
 "nbformat_minor": 2
}
